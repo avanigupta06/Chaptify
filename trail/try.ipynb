{
 "cells": [
  {
   "cell_type": "code",
   "execution_count": 6,
   "id": "458debbc",
   "metadata": {},
   "outputs": [],
   "source": [
    "# Step 1: Imports\n",
    "import os\n",
    "import subprocess\n",
    "import whisper\n",
    "import json\n",
    "import time\n",
    "import shutil\n",
    "import spacy\n",
    "from keybert import KeyBERT\n",
    "from transformers import MBartForConditionalGeneration, MBart50TokenizerFast\n",
    "from pathlib import Path\n",
    "from datetime import timedelta\n"
   ]
  },
  {
   "cell_type": "code",
   "execution_count": 7,
   "id": "5bff550c",
   "metadata": {},
   "outputs": [],
   "source": [
    "# Step 2: Configurations\n",
    "YOUTUBE_URL = input(\"Enter YouTube Video URL: \").strip()\n",
    "OUTPUT_DIR = Path(\"E:\\projects\\youtube chaptering\")\n",
    "MP3_DIR = OUTPUT_DIR / \"mp3\"\n",
    "TRANSCRIPT_FILE = OUTPUT_DIR / \"transcript.txt\"\n",
    "CHAPTERS_JSON = OUTPUT_DIR / \"chapters.json\"\n",
    "FFMPEG_PATH = \"ffmpeg\"  # Assuming ffmpeg is in PATH\n",
    "os.makedirs(MP3_DIR, exist_ok=True)\n"
   ]
  },
  {
   "cell_type": "code",
   "execution_count": 15,
   "id": "5943eed1",
   "metadata": {},
   "outputs": [
    {
     "name": "stdout",
     "output_type": "stream",
     "text": [
      "[INFO] Downloading and extracting audio...\n"
     ]
    }
   ],
   "source": [
    "# Step 3: Download and extract audio\n",
    "def download_audio(youtube_url, output_dir):\n",
    "    print(\"[INFO] Downloading and extracting audio...\")\n",
    "    command = [\n",
    "        \"yt-dlp\", youtube_url,\n",
    "        \"-x\", \"--audio-format\", \"mp3\", \"--audio-quality\", \"192K\",\n",
    "        \"--output\", str(output_dir / \"%(id)s.%(ext)s\"),\n",
    "        \"--ffmpeg-location\", FFMPEG_PATH,\n",
    "        \"--no-overwrites\", \"--continue\",\n",
    "        \"--progress\", \"-N\", \"5\"\n",
    "    ]\n",
    "    subprocess.run(command)\n",
    "\n",
    "download_audio(YOUTUBE_URL, MP3_DIR)\n"
   ]
  },
  {
   "cell_type": "code",
   "execution_count": null,
   "id": "e83930a4",
   "metadata": {},
   "outputs": [],
   "source": [
    "import subprocess\n",
    "from pathlib import Path\n",
    "\n",
    "# Define your input and output paths\n",
    "input_file = Path(\"E:/projects/youtube chaptering/mp3/ARQMEP6SH14.webm\")\n",
    "output_file = input_file.with_suffix(\".mp3\")  # same name, just .mp3 extension\n",
    "\n",
    "# FFmpeg command\n",
    "ffmpeg_cmd = [\n",
    "    \"ffmpeg\",\n",
    "    \"-i\", str(input_file),\n",
    "    \"-vn\",                # no video\n",
    "    \"-ar\", \"44100\",       # audio rate\n",
    "    \"-ac\", \"2\",           # audio channels\n",
    "    \"-b:a\", \"192k\",       # audio bitrate\n",
    "    str(output_file)\n",
    "]\n",
    "\n",
    "# Run the conversion\n",
    "try:\n",
    "    subprocess.run(ffmpeg_cmd, check=True)\n",
    "    print(f\"[SUCCESS] Converted to MP3: {output_file}\")\n",
    "except subprocess.CalledProcessError as e:\n",
    "    print(f\"[ERROR] FFmpeg failed: {e}\")\n"
   ]
  },
  {
   "cell_type": "code",
   "execution_count": null,
   "id": "8865d4ab",
   "metadata": {},
   "outputs": [
    {
     "name": "stdout",
     "output_type": "stream",
     "text": [
      "Looking for MP3 files in: E:\\projects\\youtube chaptering\\mp3\n"
     ]
    }
   ],
   "source": [
    "print(\"Looking for MP3 files in:\", MP3_DIR)\n"
   ]
  },
  {
   "cell_type": "code",
   "execution_count": null,
   "id": "8fe47ffb",
   "metadata": {},
   "outputs": [
    {
     "name": "stdout",
     "output_type": "stream",
     "text": [
      "[INFO] Transcribing E:\\projects\\youtube chaptering\\mp3\\ARQMEP6SH14.mp3\n"
     ]
    },
    {
     "name": "stderr",
     "output_type": "stream",
     "text": [
      "e:\\Anaconda\\envs\\ytch\\Lib\\site-packages\\whisper\\transcribe.py:132: UserWarning: FP16 is not supported on CPU; using FP32 instead\n",
      "  warnings.warn(\"FP16 is not supported on CPU; using FP32 instead\")\n"
     ]
    },
    {
     "name": "stdout",
     "output_type": "stream",
     "text": [
      "Detecting language using up to the first 30 seconds. Use `--language` to specify the language\n",
      "Detected language: Hindi\n",
      "[00:00.000 --> 00:01.160]  नवस्कार दोस्सों!\n",
      "[00:01.160 --> 00:05.200]  चायवाला, पंचरवाला, कूडेवाला, बार डानसर और वेटर\n",
      "[00:05.200 --> 00:09.000]  ये कुछ प्रोफेशन्स हैं, कुछ जॉब्स हैं जो कुछ लोग करते हैं\n",
      "[00:09.000 --> 00:14.200]  लेकिन हमारे देश में अकसर इन शबदों को गालियों की तरह इस्तिमाल किया जाता हैं\n",
      "[00:14.200 --> 00:17.960]  आजके इस शॉर्ट वीडियो में मैं सोशल इवल पर थोड़ी बात करना चाहुँगा\n",
      "[00:17.960 --> 00:19.960]  जोकी हैं क्लास्सिसम्\n",
      "[00:19.960 --> 00:22.760]  सही सुना अपने कास्टिसम् नहीं क्लास्सिसम्\n",
      "[00:22.880 --> 00:25.580]  पर कास्टिसम् हो थे कि किसी एक लिए कास्ट के किलाफ भ्हेत ROBERT K. swallowed by Bία\n",
      "[00:25.580 --> 00:27.040]  � steepdown regain\n",
      "[00:27.040 --> 00:31.120]  हर अलगगी कास्त के लिए की ज़ुकयरी से जाइल करना पर तो make a difference\n",
      "[00:31.120 --> 00:34.060]  People of númer प remotस Straße\n",
      "[00:34.060 --> 00:36.660]  अलग-अलग सोशिल क्लास के लोगों के साथ।\n",
      "[00:37.340 --> 00:40.380]  कि अगर नारेंद्र मोदी चाय का वित्रन करना चाते हैं,\n",
      "[00:40.380 --> 00:42.560]  तो हम उनके लिए कुछ चखा बना अर्थ से हैं।\n",
      "[00:43.460 --> 00:46.640]  उसे पुछ ओ कि सोणिया गान्नी क्या खाम पर रणी थी?\n",
      "[00:46.640 --> 00:48.140]  तो विश्या थी।\n",
      "[00:48.140 --> 00:50.140]  इसके बहुत से फेमस इजामपल पर मजुद हैं।\n",
      "[00:50.140 --> 00:52.940]  2019 में बीज़ेपी लिडर तेजसवी सूर्या ने\n",
      "[00:52.940 --> 00:57.500]  CAA-NRC के खिलाफ प्रोटेश्ट करने वाले लोगों को पंचर वाला कहा था।\n",
      "[00:57.500 --> 01:01.500]  2014 में पर परमानतरी के परणप्राइन के पराइन बन सकता।\n",
      "[01:01.500 --> 01:04.700]  और इसका एक रीसेन्ट केस कुछ दिन पहले देखने को मिला टॉटर पर\n",
      "[01:04.700 --> 01:07.500]  और आईल्ट निज के कोफार्मदर मौहम्मद जुबेर के साथ।\n",
      "[01:37.540 --> 01:41.500]  और मुस्लिम्स के खिलाफ ये पंचर वाला शब्ध का इस्तिमाल किया जाना।\n",
      "[01:41.500 --> 01:46.900]  ना सिर्फ एक लासिस्ट चीज है बल्कि एक रिलिजिस्जिस् स्टेर्यो टाइपिंग भी बन गई और अमरे देश्च।\n",
      "[01:46.900 --> 01:48.500]  अकसर सोशल मेडिया additionally,\n",
      "[01:48.620 --> 01:51.120]  D unser Den Imp Tooks\n",
      "[01:57.540 --> 02:01.600]  D glare\n",
      "[02:04.400 --> 02:08.420]  नमदल्स्ट याउपनतेम् hanging\n",
      "[02:18.500 --> 02:22.500]  बड़े-बड़े आक्तर्स, जैसे कि नसरीदीन शा, इर्फान, आमेर-कान,\n",
      "[02:22.500 --> 02:25.500]  बड़े-बड़े सिंगर्स, मुहम्मद रफी, एयार-रह्मान,\n",
      "[02:25.500 --> 02:29.500]  इंडिया के आंक्ताक्तिका मैं, डॉक्तर सैइद जहूर-कसीम,\n",
      "[02:29.500 --> 02:32.500]  जिनोंने पहली इक्सपर्डिशण hammered the first expedition in Antarctica.\n",
      "[02:32.500 --> 02:35.500]  फेमस्भीज्ड़िस्मेन और फिलान्थरॉपिस्त अजीम प्रेम्जी, famous businessman and philanthropist, Azeem Premji,\n",
      "[02:35.500 --> 02:38.500]  और डॉक्तर एपीज़े अबदूल कलाम, विछिद दो नेंगे पलिए इंदिया, and Dr. Apj Abdul Kalam, obviously, the missile man of India,\n",
      "[02:38.500 --> 02:41.000]  जो हमारे प्रेसिरेंट भी रह चुकें।\n",
      "[02:41.000 --> 02:42.660]  और सेम चीज हर धर्म के सात हैं।\n",
      "[02:42.660 --> 02:45.360]  ऐसे पाल्तु के स्टेरियो टाइप्स बनाने से कुछ नहीं होने वाला।\n",
      "[02:45.720 --> 02:47.660]  लेकिन अब इस वीडियो के टॉपिक पर आते हैं।\n",
      "[02:47.660 --> 02:48.660]  जो कि यह क्लासिसम।\n",
      "[02:48.700 --> 02:52.080]  अगर कोई पंचर वाला है भी तो क्या दिकत है उसमें।\n",
      "[02:52.540 --> 02:55.860]  एक ओर इंट्रेस्ट्रींग इजामपल का मैं यहाँ पर इस्तिमाल करना चाहूँगा दोस्तो।\n",
      "[02:55.860 --> 02:57.280]  जो कुछ हफते पहले ही हुआ था।\n",
      "[02:57.380 --> 02:59.000]  तो contrôle खधे है।\n",
      "[02:59.000 --> 03:00.660]  हमें तरइन द्रम से वता हैं!\n",
      "[03:00.660 --> 03:04.560]  अब क्या उसमझाल फतर्म की � lancz ऱे है लागर ह Politik inertia ले?\n",
      "[03:06.280 --> 03:07.320]  आलिंटूब tau...\n",
      "[03:12.080 --> 03:15.580]  लेलो लग पर Bowlifyyota उस조OLL heartbeat भाम.\n",
      "[03:15.580 --> 03:17.780]  आम exileái ऐयत्।\n",
      "[03:17.780 --> 03:21.440]  ऐकाल सुम्स szy डरी एक हुआने के शाह व्हूस\n",
      "[03:21.440 --> 03:30.960]  और ताब�\n",
      "[03:30.960 --> 03:36.040]  लोगों पर नापर जाटरे में आगया।\n",
      "[03:36.040 --> 03:37.080]  यह बड़ा इंटर्स्टिक्ट ऐन्हें हैं।\n",
      "[03:37.080 --> 03:42.960]  असल में बात यह ती कि जो वेटर्स है उस ट्रेन में उन्हों एक साफर्रेन ड्रेस कोड पैन रहा था।\n",
      "[04:13.880 --> 04:20.320]  असल बात यह पर जाटरे पैन करें तो उससे प्रबलम हो जाती हैं उससे धर्म खतरे में आ जाता हैं।\n",
      "[04:20.320 --> 04:25.120]  क्यूंकि वेटर एक ऐसी जॉब हैं जिसे लो लेवल पर देखा जाता हैं सोसाइटी में।\n",
      "[04:25.280 --> 04:30.080]  इन द्रप्रेन के थेकेडारों ने आर्रप्रेन के पारी कोड़े कर और अपने परुत साथ जाता हैं।\n",
      "[04:30.080 --> 04:33.080]  अपने प्रजे कम कहता हैं।\n",
      "[04:33.080 --> 04:36.080]  ब्घगवत गीटा में लिखा हुआ है कि ख्रिश्ण अर्जुन से कहते हैं।\n",
      "[04:36.080 --> 04:41.800]  जो सबसे हाईईस्ट योगी होता हैं, वो हर लिविंग बीन में एक्वालूलिटी देखता हैं।\n",
      "[04:41.800 --> 04:45.320]  सॉआमी विवेकानन, अहम ब्रहमासमी के कुनसेप्ट की बात करते हैं।\n",
      "[04:45.320 --> 04:47.320]  लेकिन इन लोगों को ये कहां समझ में आता हैं।\n",
      "[04:47.360 --> 04:49.960]  डॉक्टर एपजे अबदुल कलाम ने फेमसली कहा था,\n",
      "[04:49.960 --> 04:53.160]  पर ग्रेट मैं, रिलिजन इस वेआओ परिजाण करता है,\n",
      "[04:53.160 --> 04:56.320]  जुफ प्राइज़िन के लिए प्राइजिन के लिए प्राइजिन करता है।\n",
      "[04:56.360 --> 05:00.080]  उह जर सत्रा में एक टॉटर हैंडल जो कौंगरेस के वॉलेंटीर से दुरा चलाय जा रहा था।\n",
      "[05:00.080 --> 05:04.040]  उसमें एक मीन पॉस्ट किया था प्रदान मंत्री नरिदर मोडि के उपर।\n",
      "[05:04.040 --> 05:07.800]  जिसमें उके की प्राइइज़िन इस्तर मोडि को कह रहे थी कि तू चाय बेच।\n",
      "[05:07.840 --> 05:11.560]  अप कौंगरेस ने अपने आपको इस चीस से काफी डिस्टेन्स कर लिया था।\n",
      "[05:11.560 --> 05:14.600]  लेकिन बीजेपी के जो गुजराद के चीफ मिनिस्टर थी उस वक्त,\n",
      "[05:14.600 --> 05:19.560]  उन्होंने पॉस्ट किया था कि ये कितना खलासिस्ट रेमार्क है और गरीब लोगों के खिलाफ है।\n",
      "[05:19.640 --> 05:20.760]  बिल्कुल सही बात है।\n",
      "[05:20.760 --> 05:26.160]  लेकिन कुछी महिने बाद बीजेपी लिडर्स अपने सपोटर्स की खलासिस्ट मैंटालिटी देखना भूल जाते हैं।\n",
      "[05:26.160 --> 05:28.520]  कुछी महिने बाद टॉइटर पर ट्रेंट चल रहा था\n",
      "[05:28.520 --> 05:30.920]  बार डानसर सोनिया गानधी\n",
      "[05:31.240 --> 05:32.920]  यह एक ओर अपनी शाथ है\n",
      "[05:32.920 --> 05:35.480]  जो सोनिया गानदी के अगेंस इस्तिमाल करी जाती हैं\n",
      "[05:35.480 --> 05:37.120]  कि वो देखो वो बार � Shayar Gandhi is used against Sonia Gandhi that he is a bar dancer.\n",
      "[05:37.120 --> 05:40.960]  पहली जिस तो सोनिया गानदी ने कभी बार डानसर के तोरपर काम नहीं किया। The first thing is that Sonia Gandhi has never worked as a bar dancer.\n",
      "[05:40.960 --> 05:42.340]  वो एक इतालियन थी। She was an Italian.\n",
      "[05:43.340 --> 05:45.100]  अन्टोनियो अलबीना माइनो His father was an Italian house builder.\n",
      "[05:45.100 --> 05:46.980]  उनके फादर एक इतालियन हाउस बिल्डर थे His father was an Italian house builder.\n",
      "[05:46.980 --> 05:50.300]  नाइन्टीन सिक्स्टीफाइव में वो उके गई थी पढ़ाई करने के लिए In 1965, he went to the UK to study.\n",
      "[05:50.300 --> 05:53.020]  और वहाँ पर उन्हों एक रेस्ट्रेन्ट में काम किया था And he worked in a restaurant there.\n",
      "[05:53.060 --> 05:57.020]  कहा जाता है कि उस रेस्ट्रेन्ट में अकसर वो आल्कोहल भी सर्फ करती थी It is said that he often served alcohol in that restaurant.\n",
      "[05:57.020 --> 06:01.460]  तो इसी चीज़ को लेकर कुछ लोग इजाजरेट करके कह देते हैं So, some people exaggerate and say that he served alcohol.\n",
      "[06:01.460 --> 06:03.140]  बार में काम करती थी He worked in a bar.\n",
      "[06:03.180 --> 06:06.380]  उसे और इजाजरेट करके दिखा जाता है कि वो बार डानसर थी He is often exaggerated and shown to be a bar dancer.\n",
      "[06:06.380 --> 06:09.220]  अगर कोई वेटर का काम करने लग रहा है If a waiter is working-\n",
      "[06:09.220 --> 06:12.820]  उनोने ये साइट जॉब करी थी जब वो स्टूडन्ट थी जो बड़ी आम बात होती है If he did a side job when he was a student- which is very common.\n",
      "[06:13.340 --> 06:15.120]  अगर कोई वेटर का काम करने लग रहा है लेकिन What is wrong in this?\n",
      "[06:15.120 --> 06:16.260]  क्या गलत है इसन। What is wrong in this?\n",
      "[06:16.260 --> 06:19.720]  नरेंदर मोदी चाए बेचे लिए शोणिया गांदी चाए आल्कोल बेचे लिए Narendra Modi may sell tea, Sonia Gandhi may sell alcohol,\n",
      "[06:19.720 --> 06:22.820]  या रमाइन एक्स्प्रेस्में वेटरज खाना सर्फ करे or serve food in Ramayan Express.\n",
      "[06:22.900 --> 06:27.820]  इनमेंसे किसी को भी यहां पर गाली देना इस चीज़ का मजाख उडाना। This is a classicism.\n",
      "[06:27.820 --> 06:29.820]  इस चीज़ का अटिटिटूट दिखलाता है। This shows a classic attitude.\n",
      "[06:29.820 --> 06:32.820]  इस तरहे के अटिटिटूट से सोसाइटी पर के आसर पड़ता है। This type of attitude affects the society.\n",
      "[07:03.820 --> 07:07.820]  अपने से निचले लेवल का समझते हैं। People ignore them because they think they are of a lower level.\n",
      "[07:07.820 --> 07:09.820]  इक लोर श्क्षिन का समझते हैं सोसाइटी में। They think they are of a lower section in society.\n",
      "[07:09.820 --> 07:12.820]  एक खलासिष्ट सोसाइटी की सबसे बढ़ी खास बात पता है। Do you know the most special thing about a classist society?\n",
      "[07:12.820 --> 07:14.820]  एक इनduction जो यहां सी सोसाइटी में रहता है। A person who lives in such a society\n",
      "[07:14.820 --> 07:18.820]  वो अपने से निचले लोगो को तो हमेशा चीची करके देखेगा। Will always look down on the people below him.\n",
      "[07:18.820 --> 07:22.820]  मू और अपने से उपर वाले लोगो के सामने हमेशा हाथ जोड लेगा। Will always bow down to the people above him.\n",
      "[07:22.820 --> 07:23.820]  जी सर जी मैडब। Yes sir, yes madam.\n",
      "[07:23.820 --> 07:25.820]  एक हाईराकी हमेशा रहेगी। There will always be hierarchy.\n",
      "[07:26.320 --> 07:33.820]  अपने से निचले लोगो के साथ तो सपेरियोरिटी कोम्प्लेक्स देखने को मिलता है And it is inferiority complex in front of the people above him.\n",
      "[07:33.820 --> 07:37.820]  और अपने से उपर वाले लोगो के सामने इन्फेरियोरिटी कोम्प्लेक्स आ जाजाता है लोगों के अनदर। And inferiority complex comes in front of the people above him.\n",
      "[07:37.820 --> 07:40.960]  एक ह pracyराकी हमेशा रहेगी, अन अपने से नीम्मिज्छी के साथ वॉन daylight स Swan俺 yo someone from below y�\n",
      "[07:40.960 --> 07:42.820]  हमने से नीम्मिज्छी के लग � поним험झल � Você se enlie endorsed enlamp\n",
      "[07:42.820 --> 07:45.620]  और से अपने से इपर हो वजाना। Aur se enlie laid out enlist\n",
      "[07:45.620 --> 07:47.840]  वीजितना ने इता एEMA। ve apteようna.\n",
      "[07:47.840 --> 07:50.600]  समझना बी जानग्र है, Pr ayuda a bit desa Game,\n",
      "[07:50.600 --> 07:52.160]  कई फिट समझना\n",
      "[07:52.160 --> 07:54.020]  कि मेरी जगह ऐस पोजिशन पर है\n",
      "[07:54.020 --> 07:55.560]  और मेरे से निचे जितने लोग हैं\n",
      "[07:55.560 --> 07:57.640]  मैं वे बड़े गंदी तरीट करूँगा\n",
      "[07:57.640 --> 07:59.220]  और मेरे से उपर जितने लोग हैं\n",
      "[07:59.220 --> 08:00.660]  मैं वे सामने हाथ जोड लूँगा\n",
      "[08:00.660 --> 08:04.080]  नेट्फलिक्स पर एक बड़ी अच्छी फिल्मे इसके रगाड़िंग प्लैट्फॉम करके\n",
      "[08:04.080 --> 08:05.520]  कभी ताइम मिले तो देखना हो से\n",
      "[08:05.520 --> 08:07.380]  इन चीजों से देश के प्रोग्रेस पर\n",
      "[08:07.380 --> 08:10.580]  देश में हो रही ड़प्लॉप्मेंट पर एक बहुत बुरा असर पड़ता हैं\n",
      "[08:10.660 --> 08:11.660]  खुदी सोचकर देखिये\n",
      "[08:11.660 --> 08:16.840]  जब एक सेक्षन औफ प्रोफेशंज्ट को देश में इतना निचे सम्जा जाएगा\n",
      "[08:16.840 --> 08:18.420]  कोई उन्हें करना नहीं चायेगा\n",
      "[08:18.420 --> 08:20.240]  तो कोई धंग से वो काम नहीं करेगा\n",
      "[08:20.240 --> 08:22.760]  सोसाइटी में ऐसे प्रोफेशंज्ट को रिस्पेक्ट नहीं मिलेगी\n",
      "[08:22.780 --> 08:25.400]  साल्डरी कम मिलेगी वौठे तरीट किया जाएगा\n",
      "[08:25.400 --> 08:26.920]  तो काम भी फिर वैसा ही होगा\n",
      "[08:26.920 --> 08:29.860]  और अगर अमारे देश के शहरों में ड़ंकी अर्बन प्लैनिञ नहीं होगी हैं\n",
      "[08:29.860 --> 08:31.200]  ड़ंके फुटपात नहीं बनते हैं\n",
      "[08:31.200 --> 08:32.420]  ड़ंकी सडके नहीं बनते हैं\n",
      "[08:32.420 --> 08:35.780]  अच्छा सीवेज सिस्टम नहीं बनता हैं, साफ सफाई डहंग से नहीं होती हैं\n",
      "[08:35.780 --> 08:37.880]  तो किस पर ब्लेम जाना चीए हैं इन सब का?\n",
      "[08:37.880 --> 08:40.420]  सोचने वाली बात है, बहुत भुत धन्नेवाद\n"
     ]
    }
   ],
   "source": [
    "# Step 4: Transcribe with Whisper\n",
    "model = whisper.load_model(\"medium\")\n",
    "\n",
    "def transcribe_audio(mp3_folder):\n",
    "    mp3_files = list(mp3_folder.glob(\"*.mp3\"))\n",
    "    assert mp3_files, \"No MP3 files found!\"\n",
    "    audio_path = str(mp3_files[0])\n",
    "    print(f\"[INFO] Transcribing {audio_path}\")\n",
    "    result = model.transcribe(audio_path, verbose=True)\n",
    "    return result[\"segments\"]\n",
    "\n",
    "segments = transcribe_audio(MP3_DIR)\n"
   ]
  },
  {
   "cell_type": "code",
   "execution_count": null,
   "id": "ab768380",
   "metadata": {},
   "outputs": [
    {
     "name": "stdout",
     "output_type": "stream",
     "text": [
      "[INFO] Transcript saved.\n"
     ]
    }
   ],
   "source": [
    "# Step 5: Save raw transcript\n",
    "with open(TRANSCRIPT_FILE, \"w\", encoding=\"utf-8\") as f:\n",
    "    for seg in segments:\n",
    "        start = str(timedelta(seconds=int(seg['start'])))\n",
    "        end = str(timedelta(seconds=int(seg['end'])))\n",
    "        f.write(f\"[{start} - {end}]: {seg['text'].strip()}\\n\")\n",
    "print(\"[INFO] Transcript saved.\")\n"
   ]
  },
  {
   "cell_type": "code",
   "execution_count": 8,
   "id": "5826e968",
   "metadata": {},
   "outputs": [
    {
     "name": "stdout",
     "output_type": "stream",
     "text": [
      "[INFO] Loading mBART and KeyBERT...\n"
     ]
    }
   ],
   "source": [
    "# Step 6: Load Models for Summarization and Keyword Extraction\n",
    "print(\"[INFO] Loading mBART and KeyBERT...\")\n",
    "summarizer_model = MBartForConditionalGeneration.from_pretrained(\"facebook/mbart-large-50-many-to-many-mmt\")\n",
    "tokenizer = MBart50TokenizerFast.from_pretrained(\"facebook/mbart-large-50-many-to-many-mmt\")\n",
    "tokenizer.src_lang = \"hi_IN\"\n",
    "keybert_model = KeyBERT()\n",
    "nlp = spacy.load(\"en_core_web_sm\")\n"
   ]
  },
  {
   "cell_type": "code",
   "execution_count": 3,
   "id": "2dc0fbdd",
   "metadata": {},
   "outputs": [
    {
     "name": "stdout",
     "output_type": "stream",
     "text": [
      "Collecting git+https://github.com/openai/whisper.git\n",
      "  Cloning https://github.com/openai/whisper.git to c:\\users\\hp5cd\\appdata\\local\\temp\\pip-req-build-kbll841n\n",
      "  Resolved https://github.com/openai/whisper.git to commit 517a43ecd132a2089d85f4ebc044728a71d49f6e\n",
      "  Installing build dependencies: started\n",
      "  Installing build dependencies: finished with status 'done'\n",
      "  Getting requirements to build wheel: started\n",
      "  Getting requirements to build wheel: finished with status 'done'\n",
      "  Preparing metadata (pyproject.toml): started\n",
      "  Preparing metadata (pyproject.toml): finished with status 'done'\n",
      "Requirement already satisfied: more-itertools in e:\\anaconda\\envs\\ytch\\lib\\site-packages (from openai-whisper==20240930) (10.6.0)\n",
      "Requirement already satisfied: numba in e:\\anaconda\\envs\\ytch\\lib\\site-packages (from openai-whisper==20240930) (0.61.2)\n",
      "Requirement already satisfied: numpy in e:\\anaconda\\envs\\ytch\\lib\\site-packages (from openai-whisper==20240930) (2.2.4)\n",
      "Requirement already satisfied: tiktoken in e:\\anaconda\\envs\\ytch\\lib\\site-packages (from openai-whisper==20240930) (0.9.0)\n",
      "Requirement already satisfied: torch in e:\\anaconda\\envs\\ytch\\lib\\site-packages (from openai-whisper==20240930) (2.6.0)\n",
      "Requirement already satisfied: tqdm in e:\\anaconda\\envs\\ytch\\lib\\site-packages (from openai-whisper==20240930) (4.67.1)\n",
      "Requirement already satisfied: llvmlite<0.45,>=0.44.0dev0 in e:\\anaconda\\envs\\ytch\\lib\\site-packages (from numba->openai-whisper==20240930) (0.44.0)\n",
      "Requirement already satisfied: regex>=2022.1.18 in e:\\anaconda\\envs\\ytch\\lib\\site-packages (from tiktoken->openai-whisper==20240930) (2024.11.6)\n",
      "Requirement already satisfied: requests>=2.26.0 in e:\\anaconda\\envs\\ytch\\lib\\site-packages (from tiktoken->openai-whisper==20240930) (2.32.3)\n",
      "Requirement already satisfied: filelock in e:\\anaconda\\envs\\ytch\\lib\\site-packages (from torch->openai-whisper==20240930) (3.18.0)\n",
      "Requirement already satisfied: typing-extensions>=4.10.0 in e:\\anaconda\\envs\\ytch\\lib\\site-packages (from torch->openai-whisper==20240930) (4.12.2)\n",
      "Requirement already satisfied: networkx in e:\\anaconda\\envs\\ytch\\lib\\site-packages (from torch->openai-whisper==20240930) (3.4.2)\n",
      "Requirement already satisfied: jinja2 in e:\\anaconda\\envs\\ytch\\lib\\site-packages (from torch->openai-whisper==20240930) (3.1.6)\n",
      "Requirement already satisfied: fsspec in e:\\anaconda\\envs\\ytch\\lib\\site-packages (from torch->openai-whisper==20240930) (2025.3.2)\n",
      "Requirement already satisfied: sympy==1.13.1 in e:\\anaconda\\envs\\ytch\\lib\\site-packages (from torch->openai-whisper==20240930) (1.13.1)\n",
      "Requirement already satisfied: mpmath<1.4,>=1.1.0 in e:\\anaconda\\envs\\ytch\\lib\\site-packages (from sympy==1.13.1->torch->openai-whisper==20240930) (1.3.0)\n",
      "Requirement already satisfied: colorama in e:\\anaconda\\envs\\ytch\\lib\\site-packages (from tqdm->openai-whisper==20240930) (0.4.6)\n",
      "Requirement already satisfied: charset-normalizer<4,>=2 in e:\\anaconda\\envs\\ytch\\lib\\site-packages (from requests>=2.26.0->tiktoken->openai-whisper==20240930) (3.4.1)\n",
      "Requirement already satisfied: idna<4,>=2.5 in e:\\anaconda\\envs\\ytch\\lib\\site-packages (from requests>=2.26.0->tiktoken->openai-whisper==20240930) (3.10)\n",
      "Requirement already satisfied: urllib3<3,>=1.21.1 in e:\\anaconda\\envs\\ytch\\lib\\site-packages (from requests>=2.26.0->tiktoken->openai-whisper==20240930) (2.4.0)\n",
      "Requirement already satisfied: certifi>=2017.4.17 in e:\\anaconda\\envs\\ytch\\lib\\site-packages (from requests>=2.26.0->tiktoken->openai-whisper==20240930) (2025.1.31)\n",
      "Requirement already satisfied: MarkupSafe>=2.0 in e:\\anaconda\\envs\\ytch\\lib\\site-packages (from jinja2->torch->openai-whisper==20240930) (3.0.2)\n",
      "Note: you may need to restart the kernel to use updated packages.\n"
     ]
    },
    {
     "name": "stderr",
     "output_type": "stream",
     "text": [
      "  Running command git clone --filter=blob:none --quiet https://github.com/openai/whisper.git 'C:\\Users\\hp5cd\\AppData\\Local\\Temp\\pip-req-build-kbll841n'\n"
     ]
    }
   ],
   "source": [
    "pip install git+https://github.com/openai/whisper.git\n"
   ]
  },
  {
   "cell_type": "code",
   "execution_count": null,
   "id": "68e2dee6",
   "metadata": {},
   "outputs": [],
   "source": []
  }
 ],
 "metadata": {
  "kernelspec": {
   "display_name": "ytch",
   "language": "python",
   "name": "python3"
  },
  "language_info": {
   "codemirror_mode": {
    "name": "ipython",
    "version": 3
   },
   "file_extension": ".py",
   "mimetype": "text/x-python",
   "name": "python",
   "nbconvert_exporter": "python",
   "pygments_lexer": "ipython3",
   "version": "3.11.11"
  }
 },
 "nbformat": 4,
 "nbformat_minor": 5
}
